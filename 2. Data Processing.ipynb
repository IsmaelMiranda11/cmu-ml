{
 "cells": [
  {
   "cell_type": "markdown",
   "metadata": {},
   "source": [
    "# Feature Engineering\n",
    "\n",
    "This notebook explains each transformer used in the `Training.ipynb` notebook."
   ]
  },
  {
   "cell_type": "markdown",
   "metadata": {},
   "source": [
    "## 1. Columns separation\n",
    "\n",
    "### Categorical columns\n",
    "These columns contain categorical data that will be transformed using encoders.\n",
    "\n",
    "
